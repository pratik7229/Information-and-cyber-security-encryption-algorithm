{
 "cells": [
  {
   "cell_type": "code",
   "execution_count": 7,
   "metadata": {},
   "outputs": [
    {
     "name": "stdout",
     "output_type": "stream",
     "text": [
      "Enter First Prime Number7\n",
      "Enter Second Prime Number17\n",
      "Enter Ramaesh private key6\n",
      "Enter Suresh private Key4\n"
     ]
    }
   ],
   "source": [
    "# consider two person ramesh and suresh\n",
    "# both select two large prime numbers  p and q\n",
    "# both select private key a and b\n",
    "p = int(input(\"Enter First Prime Number\"))\n",
    "q = int(input(\"Enter Second Prime Number\"))\n",
    "ramesh_a = int(input(\"Enter Ramaesh private key\"))\n",
    "suresh_b = int(input(\"Enter Suresh private Key\"))\n"
   ]
  },
  {
   "cell_type": "code",
   "execution_count": 8,
   "metadata": {},
   "outputs": [],
   "source": [
    "# calculate R for Ramesh\n",
    "R = (q**ramesh_a) % 7\n",
    "\n",
    "# calculate s for Suresh\n",
    "S = (q**suresh_b) % 7"
   ]
  },
  {
   "cell_type": "code",
   "execution_count": 9,
   "metadata": {},
   "outputs": [],
   "source": [
    "# ramesh sends R to suresh and Suresh sends S to ramesh\n",
    "# ramesh now calculate the secret key \n",
    "\n",
    "Ramesh_S_key = (S**ramesh_a) % 7\n",
    "\n",
    "# suresh now calculate the secret key \n",
    "\n",
    "Suresh_S_key = (R**suresh_b) % 7\n"
   ]
  },
  {
   "cell_type": "code",
   "execution_count": 10,
   "metadata": {},
   "outputs": [],
   "source": [
    "agree = False\n",
    "if Ramesh_S_key == Suresh_S_key:\n",
    "    agree = True"
   ]
  },
  {
   "cell_type": "code",
   "execution_count": 14,
   "metadata": {},
   "outputs": [
    {
     "name": "stdout",
     "output_type": "stream",
     "text": [
      "DIFFIE HELLMAN KEY EXCHANGE ALGORITHM\n",
      " ****** Final Result ****** \n",
      "two prime numbers selected by ramesh and suresh are 7 , 17\n",
      "private key for Ramesh is 6\n",
      "private key for Suresh is 4\n",
      "calculate R for Ramesh is  1\n",
      "calculate S for Suresh is  4\n",
      "Ramesh sends R = 1 to suresh and Suresh sends S = 4 to ramesh\n",
      "Ramesh now calculate the secret key\n",
      "Ramesh secret Key is 1\n",
      "Suresh secret Key is 1\n",
      "As Ramesh and Suresh both gets the same Secret key that is :1\n",
      "Both Agrees for further Communication\n"
     ]
    }
   ],
   "source": [
    "print(\"DIFFIE HELLMAN KEY EXCHANGE ALGORITHM\")\n",
    "\n",
    "\n",
    "print(\" ****** Final Result ****** \")\n",
    "print(\"two prime numbers selected by ramesh and suresh are {} , {}\".format(p, q))\n",
    "print(\"private key for Ramesh is {}\".format(ramesh_a))\n",
    "print(\"private key for Suresh is {}\".format(suresh_b))\n",
    "print(\"calculate R for Ramesh is  {}\".format(R))\n",
    "print(\"calculate S for Suresh is  {}\".format(S))\n",
    "print(\"Ramesh sends R = {} to suresh and Suresh sends S = {} to ramesh\".format(R, S))\n",
    "print(\"Ramesh now calculate the secret key\")\n",
    "print(\"Ramesh secret Key is {}\".format(Ramesh_S_key))\n",
    "print(\"Suresh secret Key is {}\".format(Suresh_S_key))\n",
    "print(\"As Ramesh and Suresh both gets the same Secret key that is :{}\".format(Ramesh_S_key))\n",
    "if agree:\n",
    "    print(\"Both Agrees for further Communication\")"
   ]
  },
  {
   "cell_type": "code",
   "execution_count": null,
   "metadata": {},
   "outputs": [],
   "source": []
  }
 ],
 "metadata": {
  "kernelspec": {
   "display_name": "Python 3",
   "language": "python",
   "name": "python3"
  },
  "language_info": {
   "codemirror_mode": {
    "name": "ipython",
    "version": 3
   },
   "file_extension": ".py",
   "mimetype": "text/x-python",
   "name": "python",
   "nbconvert_exporter": "python",
   "pygments_lexer": "ipython3",
   "version": "3.6.9"
  }
 },
 "nbformat": 4,
 "nbformat_minor": 2
}
