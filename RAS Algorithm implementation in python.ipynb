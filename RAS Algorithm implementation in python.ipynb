{
 "cells": [
  {
   "cell_type": "code",
   "execution_count": 1,
   "metadata": {},
   "outputs": [],
   "source": [
    "# implementation of ras algorithm"
   ]
  },
  {
   "cell_type": "code",
   "execution_count": 4,
   "metadata": {},
   "outputs": [
    {
     "name": "stdout",
     "output_type": "stream",
     "text": [
      "enter a number to encrypt11\n",
      "Enter first prime number17\n",
      "enter second prime number19\n"
     ]
    }
   ],
   "source": [
    "# Accept inputs\n",
    "text = int(input(\"enter a number to encrypt\"))\n",
    "p = int(input(\"Enter first prime number\"))\n",
    "q = int(input(\"enter second prime number\"))\n",
    "\n",
    "# calculate n and fyN\n",
    "n = p * q\n",
    "fyN = (p-1) * (q-1)\n",
    "\n",
    "\n"
   ]
  },
  {
   "cell_type": "code",
   "execution_count": 5,
   "metadata": {},
   "outputs": [],
   "source": [
    "# calculate value of e\n",
    "import math\n",
    "a = 0\n",
    "for i in range (2, fyN):\n",
    "    if math.gcd(i,fyN) == 1:\n",
    "        e = i\n",
    "        break"
   ]
  },
  {
   "cell_type": "code",
   "execution_count": 9,
   "metadata": {},
   "outputs": [],
   "source": [
    "for i in range(100):\n",
    "    d = (fyN * i) + 1\n",
    "    if d % e == 0:\n",
    "        d = int(d/e)\n",
    "        break\n",
    "\n",
    "\n",
    "for i in range(100):\n",
    "    \n",
    "    d = (fyN * i) + 1\n",
    "    if d % e == 0:\n",
    "        d = int(d/e)\n",
    "        break\n"
   ]
  },
  {
   "cell_type": "code",
   "execution_count": 10,
   "metadata": {},
   "outputs": [
    {
     "name": "stdout",
     "output_type": "stream",
     "text": [
      "[5, 323]\n",
      "[173, 323]\n"
     ]
    }
   ],
   "source": [
    "pub_key = [e,n]\n",
    "priv_key = [d,n]\n",
    "print(pub_key)\n",
    "print(priv_key)"
   ]
  },
  {
   "cell_type": "code",
   "execution_count": 11,
   "metadata": {},
   "outputs": [
    {
     "data": {
      "text/plain": [
       "197"
      ]
     },
     "execution_count": 11,
     "metadata": {},
     "output_type": "execute_result"
    }
   ],
   "source": [
    "# cipher = p^e mod n\n",
    "cipher = (text ** e) % n\n",
    "cipher"
   ]
  },
  {
   "cell_type": "code",
   "execution_count": 12,
   "metadata": {},
   "outputs": [
    {
     "data": {
      "text/plain": [
       "11"
      ]
     },
     "execution_count": 12,
     "metadata": {},
     "output_type": "execute_result"
    }
   ],
   "source": [
    "# decrypt the message\n",
    "# message = cipher ^d mod n\n",
    "\n",
    "message = (cipher ** d) % n\n",
    "message"
   ]
  },
  {
   "cell_type": "code",
   "execution_count": 13,
   "metadata": {},
   "outputs": [
    {
     "name": "stdout",
     "output_type": "stream",
     "text": [
      "Final Result\n",
      "two prime numbers are 17 , 19\n",
      "Test to encrypt is 11\n",
      "Value of n is 323\n",
      "Value of fy n is 288\n",
      "public key is [5, 323]\n",
      "private key is [173, 323]\n",
      "cipher text is 197\n",
      "decrypted message is 11\n"
     ]
    }
   ],
   "source": [
    "print(\"Final Result\")\n",
    "print(\"two prime numbers are {} , {}\".format(p, q))\n",
    "print(\"Test to encrypt is {}\".format(text))\n",
    "print(\"Value of n is {}\".format(n))\n",
    "print(\"Value of fy n is {}\".format(fyN))\n",
    "print(\"public key is {}\".format(pub_key))\n",
    "print(\"private key is {}\".format(priv_key))\n",
    "print(\"cipher text is {}\".format(cipher))\n",
    "print(\"decrypted message is {}\".format(message))"
   ]
  },
  {
   "cell_type": "code",
   "execution_count": null,
   "metadata": {},
   "outputs": [],
   "source": []
  }
 ],
 "metadata": {
  "kernelspec": {
   "display_name": "Python 3",
   "language": "python",
   "name": "python3"
  },
  "language_info": {
   "codemirror_mode": {
    "name": "ipython",
    "version": 3
   },
   "file_extension": ".py",
   "mimetype": "text/x-python",
   "name": "python",
   "nbconvert_exporter": "python",
   "pygments_lexer": "ipython3",
   "version": "3.6.9"
  }
 },
 "nbformat": 4,
 "nbformat_minor": 2
}
